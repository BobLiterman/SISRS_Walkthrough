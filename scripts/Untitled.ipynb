{
 "cells": [
  {
   "cell_type": "code",
   "execution_count": null,
   "metadata": {},
   "outputs": [],
   "source": [
    "#!/usr/bin/env python3\n",
    "\n",
    "# This script preps the folder architecture for a SISRS run.\n",
    "# Arguments: (1) --tid: Path to text file with Taxon IDs on new lines [Default: One level above 'scripts' directory]\n",
    "# To fetch 'Taxon_IDs' from SISRS base directory: python scripts/folder_setup.py \n",
    "# To fetch 'Taxon_IDs' from SISRS base directory: python scripts/folder_setup.py --tid /some/other/path/to/TaxonIDs [Fetches 'Taxon_IDs' from specified directory]\n",
    "# Output: Script will create lots of folders, including taxon folders in the RawReads, TrimReads, and SISRS_Run folders\n",
    "\n",
    "import sys\n",
    "import os\n",
    "from os import path\n",
    "import argparse\n",
    "\n",
    "# Set script dir and SISRS dir location \n",
    "script_dir = sys.path[0]\n",
    "base_dir = path.dirname(path.abspath(script_dir))\n",
    "\n",
    "# Get taxon ID file location\n",
    "my_parser = argparse.ArgumentParser()\n",
    "my_parser.add_argument('--tid',action='store',default=path.dirname(path.abspath(script_dir))+\"/Taxon_IDs\",nargs=\"?\")\n",
    "args = my_parser.parse_args()\n",
    "taxon_ID_file = args.tid\n",
    "\n",
    "# Read taxon IDs from file\n",
    "taxa_list = [line.rstrip('\\n') for line in open(taxon_ID_file)]\n",
    "\n",
    "# Make directories\n",
    "os.mkdir(base_dir+\"/Reads\")\n",
    "os.mkdir(base_dir+\"/Reads/RawReads\")\n",
    "os.mkdir(base_dir+\"/Reads/TrimReads\")\n",
    "os.mkdir(base_dir+\"/Reads/SubsetReads\")\n",
    "os.mkdir(base_dir+\"/SISRS_Run\")\n",
    "os.mkdir(base_dir+\"/Reference_Genome\")\n",
    "\n",
    "for x in taxa_list:\n",
    "    os.mkdir(base_dir+\"/Reads/RawReads/\"+x)\n",
    "    os.mkdir(base_dir+\"/Reads/TrimReads/\"+x)\n",
    "    os.mkdir(base_dir+\"/SISRS_Run/\"+x)"
   ]
  }
 ],
 "metadata": {
  "kernelspec": {
   "display_name": "Python 3",
   "language": "python",
   "name": "python3"
  },
  "language_info": {
   "codemirror_mode": {
    "name": "ipython",
    "version": 3
   },
   "file_extension": ".py",
   "mimetype": "text/x-python",
   "name": "python",
   "nbconvert_exporter": "python",
   "pygments_lexer": "ipython3",
   "version": "3.6.5"
  }
 },
 "nbformat": 4,
 "nbformat_minor": 2
}
